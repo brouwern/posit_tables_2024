{
  "cells": [
    {
      "cell_type": "markdown",
      "metadata": {},
      "source": [
        "# Notes`\n",
        "adapted from https://colab.research.google.com/drive/1LliVq9wD4N4smXA0aST-quMmBFdFSdxz#scrollTo=mCKxsaFdwYZ4"
      ]
    },
    {
      "cell_type": "code",
      "execution_count": null,
      "metadata": {
        "colab": {
          "base_uri": "https://localhost:8080/"
        },
        "id": "Y9LEoKsqqgEQ",
        "outputId": "d39ce7b1-35aa-49bf-ded9-5d11162a6d2f"
      },
      "outputs": [],
      "source": [
        "import os"
      ]
    },
    {
      "cell_type": "code",
      "execution_count": null,
      "metadata": {},
      "outputs": [],
      "source": [
        "os.getcwd()\n",
        "os.listdir()"
      ]
    },
    {
      "cell_type": "code",
      "execution_count": null,
      "metadata": {},
      "outputs": [],
      "source": [
        "my_vcf_gz_file = '15.27999021-28345461.ALL.chr15.phase3_shapeit2_mvncall_integrated_v5b.20130502.genotypes.vcf.gz'\n",
        "bytes_to_mb = 1000000\n",
        "os.path.getsize(my_vcf_gz_file)/bytes_to_mb"
      ]
    },
    {
      "cell_type": "markdown",
      "metadata": {},
      "source": [
        "Source scripts with functions in it"
      ]
    },
    {
      "cell_type": "code",
      "execution_count": null,
      "metadata": {},
      "outputs": [],
      "source": [
        "run \"vcf_function_definitions.py\""
      ]
    },
    {
      "cell_type": "markdown",
      "metadata": {
        "id": "IjMWiKkUwY7Q"
      },
      "source": [
        "### Process VCF file"
      ]
    },
    {
      "cell_type": "code",
      "execution_count": null,
      "metadata": {
        "colab": {
          "base_uri": "https://localhost:8080/"
        },
        "id": "7RW6z9FnlS7r",
        "outputId": "25601191-3cb5-4993-f07f-3be274b3c408"
      },
      "outputs": [],
      "source": [
        "# convert a .vcf.gz file to a a .vcf file\n",
        "## all .gz files are compressed\n",
        "## .vcf are a specially laid out text file\n",
        "\n",
        "vcfgz_to_gz(vcf_gz_file = my_vcf_gz_file,\n",
        "            vcf_name = \"output.vcf\")"
      ]
    },
    {
      "cell_type": "code",
      "execution_count": null,
      "metadata": {
        "colab": {
          "base_uri": "https://localhost:8080/"
        },
        "id": "dMha1c7Esc1Y",
        "outputId": "bfb4b8e3-3649-45f9-8608-96d64ac5c583"
      },
      "outputs": [],
      "source": [
        "os.listdir()"
      ]
    },
    {
      "cell_type": "markdown",
      "metadata": {
        "id": "NKl39a5SxCif"
      },
      "source": [
        "## Convert VCF file to dataframe\n",
        "\n",
        "Data from 1000 Genomes are in phased format, which represents information on the chromosome that an allele originates from (paternal or maternal).  This information has many important uses, but not for what we're doing.  \n",
        "\n",
        "The time it takes to do this varies a lot.  ACKR1 is a small gene and takes less than 1 second.  OCA2 is a large gene and takes about 20 seconds."
      ]
    },
    {
      "cell_type": "code",
      "execution_count": null,
      "metadata": {
        "colab": {
          "base_uri": "https://localhost:8080/"
        },
        "id": "4eDq45kcvamd",
        "outputId": "509a1dce-439a-4b00-cf39-e0c2e7d9d3f1"
      },
      "outputs": [],
      "source": [
        "# vcf_file: your .vcf file\n",
        "# csv_file: name of .csv file you want created\n",
        "phased_snps = vcf_to_df(vcf_file = \"output.vcf\",\n",
        "                        csv_file = \"output_phased_snps.csv\")"
      ]
    },
    {
      "cell_type": "code",
      "execution_count": null,
      "metadata": {
        "colab": {
          "base_uri": "https://localhost:8080/"
        },
        "id": "oqto1RaRyXcS",
        "outputId": "35b85196-9e5b-47a9-ffa9-463696b5c5a6"
      },
      "outputs": [],
      "source": [
        "os.listdir()"
      ]
    },
    {
      "cell_type": "markdown",
      "metadata": {
        "id": "YPlM7UfczOs9"
      },
      "source": [
        "## Look at dataframe"
      ]
    },
    {
      "cell_type": "code",
      "execution_count": null,
      "metadata": {
        "colab": {
          "base_uri": "https://localhost:8080/",
          "height": 255
        },
        "id": "yKwAcnKEwlDD",
        "outputId": "10c88dbe-5ac2-41b6-fc42-63f1a85cec01"
      },
      "outputs": [],
      "source": [
        "phased_snps.head()"
      ]
    },
    {
      "cell_type": "code",
      "execution_count": null,
      "metadata": {},
      "outputs": [],
      "source": [
        "phased_snps.tail()"
      ]
    },
    {
      "cell_type": "markdown",
      "metadata": {
        "id": "u7dNpKQFwL7A"
      },
      "source": [
        "# ☯ Run Quality Control & Examine your SNPs!"
      ]
    },
    {
      "cell_type": "code",
      "execution_count": null,
      "metadata": {
        "colab": {
          "base_uri": "https://localhost:8080/"
        },
        "id": "YV4J9iCIz9aM",
        "outputId": "409cd1e0-96ad-4c31-d19c-fd03a31fbea6"
      },
      "outputs": [],
      "source": [
        "phased_snps.columns"
      ]
    },
    {
      "cell_type": "code",
      "execution_count": null,
      "metadata": {
        "colab": {
          "base_uri": "https://localhost:8080/"
        },
        "id": "gG7fRjdQqaKS",
        "outputId": "e7753f58-ffcc-41c6-deba-b990baf31f2f"
      },
      "outputs": [],
      "source": [
        "len(phased_snps.columns)"
      ]
    },
    {
      "cell_type": "markdown",
      "metadata": {
        "id": "oJdTihIAwaU_"
      },
      "source": [
        "We can look at the first 10 column names to see what they show."
      ]
    },
    {
      "cell_type": "code",
      "execution_count": null,
      "metadata": {
        "colab": {
          "base_uri": "https://localhost:8080/"
        },
        "id": "DWLCUdEbsYn6",
        "outputId": "cb09d86d-6e0d-468e-cd12-8d85eca9917d"
      },
      "outputs": [],
      "source": [
        "print(list(phased_snps.columns[0:10]))"
      ]
    },
    {
      "cell_type": "markdown",
      "metadata": {
        "id": "jfoOjmHsF-gp"
      },
      "source": [
        "These should be familiar from the preview panel of Data Slicer."
      ]
    },
    {
      "cell_type": "markdown",
      "metadata": {
        "id": "pI5Uqe-FwqVW"
      },
      "source": [
        "The `.shape` attribute of a pandas datafame tells us the rows (first number) and columns (second number)"
      ]
    },
    {
      "cell_type": "code",
      "execution_count": null,
      "metadata": {
        "colab": {
          "base_uri": "https://localhost:8080/"
        },
        "id": "uaUFpsHswo80",
        "outputId": "61efb963-fd1d-4060-c9cd-2188e2ca8f60"
      },
      "outputs": [],
      "source": [
        "phased_snps.shape"
      ]
    },
    {
      "cell_type": "markdown",
      "metadata": {
        "id": "8QjxRl-BweDM"
      },
      "source": [
        "We can call `.head()` on the dataframe and look at things."
      ]
    },
    {
      "cell_type": "code",
      "execution_count": null,
      "metadata": {},
      "outputs": [],
      "source": [
        "phased_snps.head()"
      ]
    },
    {
      "cell_type": "code",
      "execution_count": null,
      "metadata": {},
      "outputs": [],
      "source": [
        "phased_snps.tail()"
      ]
    },
    {
      "cell_type": "markdown",
      "metadata": {
        "id": "ekm_lVy_qAgv"
      },
      "source": [
        "## Columns of a vcf file\n",
        "\n",
        "Columns we will use in this class are <u>underlined.</u>\n",
        "\n",
        "* **<u>CHROM</u>** = **chromosome**\n",
        "* **<u>POS</u>** = **genomic position** on chromosome\n",
        "* **<u>ID</u>** = **rs code / rs ID** for SNP\n",
        "* **<u>REF</u>** = the **most common allele**; typically what is in the reference genome\n",
        "* **<u>ALT</u>** = **alternative allele** OR **alleles**.  Usually there is only 1 alternative allele, BUT there can be moer!\n",
        "* **QUAL** = **quality score**\n",
        "* **FILTER** = related to quality control\n",
        "* **INFO** = **meta-data** for each SNP\n",
        "* **FORMAT** = format of actual SNP data; \"GT\" for \"genotype\" for us\n",
        "\n",
        "Individuals have ID codes like \"**HG00096**\" and \"**NA21129**\".\n",
        "\n",
        "The population and sex of each person is known, and if they have any children or parents also in the dataset, but this data is stored in a different file."
      ]
    },
    {
      "cell_type": "markdown",
      "metadata": {
        "id": "F02PQoIxQ6Vc"
      },
      "source": [
        "# On saving lots of files and reloading them\n",
        "\n",
        "Throughout this workflow I will be\n",
        "\n",
        "1. Saving backup copies of key files (and downloading them)\n",
        "1. Re-loading the backup copy when I move on to the next step\n",
        "\n",
        "I do this to\n",
        "\n",
        "1. Save my work in case I break the code later\n",
        "1. So I don't have to re-run time consuming steps\n",
        "1. Make the code modular for moving around to new projects."
      ]
    },
    {
      "cell_type": "markdown",
      "metadata": {
        "id": "F1bDq1J12bpv"
      },
      "source": [
        "## Featurize SNPs"
      ]
    },
    {
      "cell_type": "code",
      "execution_count": null,
      "metadata": {
        "colab": {
          "base_uri": "https://localhost:8080/"
        },
        "id": "17aUuZq_yp9R",
        "outputId": "bb9f40c5-914d-4a96-a062-f25b92dccf82"
      },
      "outputs": [],
      "source": [
        "os.listdir()"
      ]
    },
    {
      "cell_type": "code",
      "execution_count": null,
      "metadata": {
        "id": "fHoMwTUSQ739"
      },
      "outputs": [],
      "source": [
        "# load snps\n",
        "import pandas as pd\n",
        "csv_file = \"output_phased_snps.csv\"\n",
        "phased_snps = pd.read_csv(csv_file)"
      ]
    },
    {
      "cell_type": "markdown",
      "metadata": {
        "id": "kgvXKsG12n71"
      },
      "source": [
        "Look at the data"
      ]
    },
    {
      "cell_type": "code",
      "execution_count": null,
      "metadata": {
        "colab": {
          "base_uri": "https://localhost:8080/"
        },
        "id": "MoxwSSk4p_yx",
        "outputId": "3160fd92-a86b-4cb8-9712-b85968fed380"
      },
      "outputs": [],
      "source": [
        "phased_snps.shape"
      ]
    },
    {
      "cell_type": "code",
      "execution_count": null,
      "metadata": {
        "colab": {
          "base_uri": "https://localhost:8080/",
          "height": 255
        },
        "id": "VKViIamvzMw3",
        "outputId": "067689ef-2bd7-4a30-8002-7918074a4d75"
      },
      "outputs": [],
      "source": [
        "phased_snps.head()"
      ]
    },
    {
      "cell_type": "markdown",
      "metadata": {
        "id": "ojfG5rO322-T"
      },
      "source": [
        "Save names of colmns to an object"
      ]
    },
    {
      "cell_type": "code",
      "execution_count": null,
      "metadata": {
        "colab": {
          "base_uri": "https://localhost:8080/"
        },
        "id": "ywoQXV4Gy7lx",
        "outputId": "775ea0d7-c90e-4ab8-9425-68283479cd00"
      },
      "outputs": [],
      "source": [
        "columns = phased_snps.columns\n",
        "columns"
      ]
    },
    {
      "cell_type": "markdown",
      "metadata": {
        "id": "GQ_BuzZ92uti"
      },
      "source": [
        "The first 10 columns are metadata"
      ]
    },
    {
      "cell_type": "code",
      "execution_count": null,
      "metadata": {
        "colab": {
          "base_uri": "https://localhost:8080/"
        },
        "id": "tQcyoMxSyyGA",
        "outputId": "e8420214-9f14-4f0a-fe99-48331477f729"
      },
      "outputs": [],
      "source": [
        "columns[0:9]"
      ]
    },
    {
      "cell_type": "markdown",
      "metadata": {
        "id": "Q-IJ89V32x3z"
      },
      "source": [
        "The 11th column is the first person's data"
      ]
    },
    {
      "cell_type": "code",
      "execution_count": null,
      "metadata": {
        "id": "XCqHYwG5yz4a"
      },
      "outputs": [],
      "source": [
        "column11 = columns[10]"
      ]
    },
    {
      "cell_type": "markdown",
      "metadata": {
        "id": "u_fGipAd26wF"
      },
      "source": [
        "Look at the columns"
      ]
    },
    {
      "cell_type": "code",
      "execution_count": null,
      "metadata": {
        "colab": {
          "base_uri": "https://localhost:8080/"
        },
        "id": "5a1_Eo32y1VI",
        "outputId": "b0af8907-1be6-459e-b51d-486377825023"
      },
      "outputs": [],
      "source": [
        "phased_snps[column11]\n",
        "phased_snps[columns[10]]"
      ]
    },
    {
      "cell_type": "markdown",
      "metadata": {
        "id": "cFmoKkHIqt7M"
      },
      "source": [
        "## Isolating mono-nucleotide, bi-allelic SNPS"
      ]
    },
    {
      "cell_type": "markdown",
      "metadata": {
        "id": "mrBAoFiDrIno"
      },
      "source": [
        "MOST variant in 1000 genomes are\n",
        "\n",
        "1. mono-nucleotides\n",
        "1. bi-allelic\n",
        "\n",
        "Mononucleotides means just 1 nucleotides: A, T, C, or G.  Bi-allelic means 2 possible alleles This means that they just have single-nucleotide transition or transversion point mutations with just 2 variants.  That is, some people in the world have e.g. a T at a specific genomic address, and others have a C.  \n",
        "\n",
        "But, some SNPs are polymorphic - tri- or tetra-allelic: e.g, for tri-allelic, e.g  some people have A, some have C, and some have T. For a tri-allelic SNP, there will be one allele listed for the REF, and two for the ALT.  For tetra allelic one will be listed as REF, and 3 for the alt.\n",
        "\n",
        "Also, 1000 Genomes data also includes insertions and deletions, e.g. some people are A and others don't have an A.  Finally, sometimes the variant is a dinucleotide (e.g. AA, AT, TA) or larger sequence, such as GCGCGGC.  \n",
        "\n",
        "For most analyses we want just basic mono-nucleotide, bi-allelic SNPS.  That is, we want only A, T, C, and G as our REF and ALT alleles, an we want just one nucleotide listed as the REF, and one as an ALT.\n",
        "\n",
        "\n",
        "In the code below we will explore the types of variants we have and then remove everything but bi-allelic SNPs.\n",
        "\n",
        "For related background info, see [here](https://docs.google.com/document/d/1Lgc5vVsAKyYJsCAf50Cb_T1uZbfU8TbUbUgpImRwzww/edit#bookmark=id.oyw4n2k69x05) in the outline/notes for the unit.\n",
        "\n"
      ]
    },
    {
      "cell_type": "markdown",
      "metadata": {
        "id": "zAE24J5n411W"
      },
      "source": [
        "The `.value_counts()` method counts up all the possible values that appear in a column."
      ]
    },
    {
      "cell_type": "code",
      "execution_count": null,
      "metadata": {
        "colab": {
          "base_uri": "https://localhost:8080/"
        },
        "id": "VjQf2hPYUrwc",
        "outputId": "96aebf1f-a5cd-4d83-a5d8-35298ae0f3d2"
      },
      "outputs": [],
      "source": [
        "# these commands both do the same thing\n",
        "phased_snps.REF.value_counts()\n",
        "phased_snps[\"REF\"].value_counts()"
      ]
    },
    {
      "cell_type": "code",
      "execution_count": null,
      "metadata": {
        "colab": {
          "base_uri": "https://localhost:8080/"
        },
        "id": "1ZkhZuNW0St8",
        "outputId": "718b6011-bd12-472f-e827-84229a32d576"
      },
      "outputs": [],
      "source": [
        "# these commands both do the same thing\n",
        "phased_snps.ALT.value_counts()\n",
        "phased_snps[\"ALT\"].value_counts()"
      ]
    },
    {
      "cell_type": "markdown",
      "metadata": {
        "id": "G0RGR67w_eNT"
      },
      "source": [
        "Save info on these possibilities\n"
      ]
    },
    {
      "cell_type": "code",
      "execution_count": null,
      "metadata": {
        "id": "_LDHOav3_h70"
      },
      "outputs": [],
      "source": [
        "var_counts_all_REF = phased_snps.REF.value_counts()\n",
        "var_counts_all_ALT = phased_snps.ALT.value_counts()"
      ]
    },
    {
      "cell_type": "code",
      "execution_count": null,
      "metadata": {
        "id": "8c9PhZEE_uA-"
      },
      "outputs": [],
      "source": [
        "import seaborn as sns\n",
        "var_counts_all_REF = pd.Series(var_counts_all_REF)\n",
        "var_counts_all_ALT = pd.Series(var_counts_all_ALT)\n"
      ]
    },
    {
      "cell_type": "code",
      "execution_count": null,
      "metadata": {
        "colab": {
          "base_uri": "https://localhost:8080/"
        },
        "id": "lN1rwCgsAcBB",
        "outputId": "93f18855-4f4f-4e58-8c00-1d81cddbc917"
      },
      "outputs": [],
      "source": [
        "var_counts_all_REF"
      ]
    },
    {
      "cell_type": "code",
      "execution_count": null,
      "metadata": {
        "colab": {
          "base_uri": "https://localhost:8080/",
          "height": 453
        },
        "id": "k1VSJxPEAUWL",
        "outputId": "c4fd5495-8abb-4e59-f2a8-dd2c467a1851"
      },
      "outputs": [],
      "source": [
        "sns.countplot(phased_snps, y=\"REF\");"
      ]
    },
    {
      "cell_type": "markdown",
      "metadata": {
        "id": "gzAfuzVe5_7w"
      },
      "source": [
        "I can see the 1 long reference allele that shows up using pandas column selection code.  (🙈You don't need to know how to do this on your own)"
      ]
    },
    {
      "cell_type": "code",
      "execution_count": null,
      "metadata": {
        "colab": {
          "base_uri": "https://localhost:8080/",
          "height": 130
        },
        "id": "X7peU4-b0auT",
        "outputId": "234d2ae3-35e8-4a5f-f882-cf600e42fed0"
      },
      "outputs": [],
      "source": [
        "# 🙈\n",
        "phased_snps[phased_snps.REF == \"GA\"]"
      ]
    },
    {
      "cell_type": "markdown",
      "metadata": {
        "id": "BwiQXneW6XdT"
      },
      "source": [
        "The referene genome has \"TAACA\" and the ALT is \"T\", implying a deletion of AACA.  Further anlysis would be required to determine, however, which one is the ancestral allele.  1000 Genomes list the allele the reference genome, NOT the most common allele globablly, so its possible that \"T\" is more common than TAACA."
      ]
    },
    {
      "cell_type": "markdown",
      "metadata": {
        "id": "FF25FTskqz2l"
      },
      "source": [
        "We can select what we want using the `.isin()` method of pandas dataframe. (🙈 You don't need to know how this function works)\n",
        "\n",
        "This gives us a TRUE or FALSE logical answer of whether an element is in a list.\n",
        "\n"
      ]
    },
    {
      "cell_type": "code",
      "execution_count": null,
      "metadata": {
        "colab": {
          "base_uri": "https://localhost:8080/"
        },
        "id": "ykKBEKZRr2Hb",
        "outputId": "9618b68a-d1f5-447b-bb1f-272eae703ab7"
      },
      "outputs": [],
      "source": [
        "#🌊\n",
        "# 🙈\n",
        "real_SNPs = [\"A\",\"T\",\"C\",\"G\"]\n",
        "onlyATCG_REF = phased_snps.REF.isin(real_SNPs)\n",
        "\n",
        "# THIS NEED TO BE FIXED\n",
        "onlyATCG_ALT = phased_snps.ALT.isin(real_SNPs)\n",
        "\n",
        "print(onlyATCG_REF[1:10])\n",
        "\n"
      ]
    },
    {
      "cell_type": "markdown",
      "metadata": {
        "id": "dVcK_giD7ZM4"
      },
      "source": [
        "We can now use this vector to isolated just the biallelic SNPS into a new dataframe\n",
        "\n",
        "### THIS NEEDS TO BE FIXED - need to re-run isin after first processing"
      ]
    },
    {
      "cell_type": "code",
      "execution_count": null,
      "metadata": {
        "colab": {
          "base_uri": "https://localhost:8080/"
        },
        "id": "Vh_Y1WPS04-I",
        "outputId": "5071ad11-7c22-4183-b46a-bb6f93c8cd11"
      },
      "outputs": [],
      "source": [
        "phased_snps_biallelic = phased_snps[onlyATCG_REF]\n",
        "phased_snps_biallelic = phased_snps_biallelic[onlyATCG_ALT]"
      ]
    },
    {
      "cell_type": "code",
      "execution_count": null,
      "metadata": {},
      "outputs": [],
      "source": [
        "phased_snps.head()"
      ]
    },
    {
      "cell_type": "markdown",
      "metadata": {
        "id": "XpURatsN7ow0"
      },
      "source": [
        "The size of our original dataframe"
      ]
    },
    {
      "cell_type": "code",
      "execution_count": null,
      "metadata": {
        "colab": {
          "base_uri": "https://localhost:8080/"
        },
        "id": "-Rmrt74Q1KEl",
        "outputId": "fcb0c9f2-7aac-42cc-f459-5eb90e3f08b1"
      },
      "outputs": [],
      "source": [
        "phased_snps.shape"
      ]
    },
    {
      "cell_type": "code",
      "execution_count": null,
      "metadata": {
        "colab": {
          "base_uri": "https://localhost:8080/"
        },
        "id": "aC-N3iEi1MhP",
        "outputId": "0cbfac4b-e405-4dca-d73a-2e522805f528"
      },
      "outputs": [],
      "source": [
        "phased_snps_biallelic.shape"
      ]
    },
    {
      "cell_type": "code",
      "execution_count": null,
      "metadata": {
        "colab": {
          "base_uri": "https://localhost:8080/"
        },
        "id": "vsYahCAdsJ8m",
        "outputId": "83a6f897-7f7b-4562-c586-62f7de1cc603"
      },
      "outputs": [],
      "source": [
        "phased_snps_biallelic.REF.value_counts()"
      ]
    },
    {
      "cell_type": "code",
      "execution_count": null,
      "metadata": {
        "colab": {
          "base_uri": "https://localhost:8080/"
        },
        "id": "fhapIb212mt_",
        "outputId": "8411db25-8177-4b54-c141-801965f1a246"
      },
      "outputs": [],
      "source": [
        "phased_snps_biallelic.ALT.value_counts()"
      ]
    },
    {
      "cell_type": "markdown",
      "metadata": {
        "id": "mc2SlBJAq0BF"
      },
      "source": [
        "## Removing metadata columns\n",
        "\n",
        "For most of our purposes we won't need the meta data columns\n",
        "\n"
      ]
    },
    {
      "cell_type": "code",
      "execution_count": null,
      "metadata": {
        "colab": {
          "base_uri": "https://localhost:8080/",
          "height": 236
        },
        "id": "d-sBIAaD22KD",
        "outputId": "e3ce4e53-a7ce-4674-caba-241e0c650dab"
      },
      "outputs": [],
      "source": [
        "phased_snps_biallelic.head()"
      ]
    },
    {
      "cell_type": "code",
      "execution_count": null,
      "metadata": {
        "colab": {
          "base_uri": "https://localhost:8080/"
        },
        "id": "TVhR3hglsjFw",
        "outputId": "9439da86-3011-4de7-f71b-f083fe85b35c"
      },
      "outputs": [],
      "source": [
        "phased_snps_biallelic.columns[0:9]\n"
      ]
    },
    {
      "cell_type": "code",
      "execution_count": null,
      "metadata": {
        "colab": {
          "base_uri": "https://localhost:8080/",
          "height": 35
        },
        "id": "oekOeIAR21JT",
        "outputId": "92989b17-22f5-4543-d039-0f40247f740b"
      },
      "outputs": [],
      "source": [
        "phased_snps_biallelic.columns[10]"
      ]
    },
    {
      "cell_type": "code",
      "execution_count": null,
      "metadata": {},
      "outputs": [],
      "source": [
        " phased_snps_biallelic.ID"
      ]
    },
    {
      "cell_type": "code",
      "execution_count": null,
      "metadata": {},
      "outputs": [],
      "source": [
        "phased_snps_biallelic.POS"
      ]
    },
    {
      "cell_type": "markdown",
      "metadata": {
        "id": "8mqZl7gO55YX"
      },
      "source": [
        "Before we do this we want to set the rsID to be the column index"
      ]
    },
    {
      "cell_type": "markdown",
      "metadata": {},
      "source": [
        "# WANRING - rs IDS arean't always present!!!!"
      ]
    },
    {
      "cell_type": "code",
      "execution_count": null,
      "metadata": {
        "id": "tTLNuuWw54kM"
      },
      "outputs": [],
      "source": [
        "rsID = phased_snps_biallelic.ID   # ACHTUNG  - doesn't always show up!\n",
        "POS  = phased_snps_biallelic.POS\n",
        "phased_snps_biallelic.index = POS"
      ]
    },
    {
      "cell_type": "code",
      "execution_count": null,
      "metadata": {},
      "outputs": [],
      "source": [
        "phased_snps_biallelic.head()"
      ]
    },
    {
      "cell_type": "markdown",
      "metadata": {
        "id": "Nl5a8Yac24xs"
      },
      "source": [
        "We'll make a copy of the dataframe using the `.copy()` method then remove the first 9 columns"
      ]
    },
    {
      "cell_type": "code",
      "execution_count": null,
      "metadata": {
        "id": "DjKUdI0LslfW"
      },
      "outputs": [],
      "source": [
        "# copy the dtaframe\n",
        "phased_snps_biallelic2 = phased_snps_biallelic.copy()"
      ]
    },
    {
      "cell_type": "code",
      "execution_count": null,
      "metadata": {
        "id": "SrrNc2p9soBQ"
      },
      "outputs": [],
      "source": [
        "meta_columns = phased_snps_biallelic2.columns[0:9]"
      ]
    },
    {
      "cell_type": "code",
      "execution_count": null,
      "metadata": {
        "colab": {
          "base_uri": "https://localhost:8080/"
        },
        "id": "B9pED8fKspVg",
        "outputId": "284429cc-ce5c-43c4-c719-ef6b3b8d8e9d"
      },
      "outputs": [],
      "source": [
        "meta_columns"
      ]
    },
    {
      "cell_type": "markdown",
      "metadata": {
        "id": "j3ksgCqw3D9_"
      },
      "source": [
        "We can then remove the specified columns using the `.drop()` method"
      ]
    },
    {
      "cell_type": "code",
      "execution_count": null,
      "metadata": {
        "id": "8eT5czwYsrIk"
      },
      "outputs": [],
      "source": [
        "phased_snps_biallelic2= phased_snps_biallelic2.drop(meta_columns,\n",
        "                                                          axis=1)\n"
      ]
    },
    {
      "cell_type": "code",
      "execution_count": null,
      "metadata": {
        "colab": {
          "base_uri": "https://localhost:8080/"
        },
        "id": "FYkj59tH3iWf",
        "outputId": "281107c1-4da5-40d5-d640-ee47d859bf77"
      },
      "outputs": [],
      "source": [
        "phased_snps_biallelic.shape"
      ]
    },
    {
      "cell_type": "code",
      "execution_count": null,
      "metadata": {
        "colab": {
          "base_uri": "https://localhost:8080/"
        },
        "id": "XrymSTgSbWaI",
        "outputId": "19374cfc-0c47-4116-d3f9-f1675d5631cd"
      },
      "outputs": [],
      "source": [
        "phased_snps_biallelic2.shape"
      ]
    },
    {
      "cell_type": "code",
      "execution_count": null,
      "metadata": {
        "colab": {
          "base_uri": "https://localhost:8080/",
          "height": 267
        },
        "id": "MzWvcf1BbU92",
        "outputId": "c0e5a699-5637-4f64-9028-1a998cc451d4"
      },
      "outputs": [],
      "source": [
        "phased_snps_biallelic2.head()"
      ]
    },
    {
      "cell_type": "code",
      "execution_count": null,
      "metadata": {
        "colab": {
          "base_uri": "https://localhost:8080/"
        },
        "id": "fSq5-MgfuAVj",
        "outputId": "77368296-5344-442c-dcf9-aad1bd679139"
      },
      "outputs": [],
      "source": [
        "phased_snps_biallelic2.columns[0:10]"
      ]
    },
    {
      "cell_type": "markdown",
      "metadata": {
        "id": "xmNcKe9Xq0Fk"
      },
      "source": [
        "## Featurize SNPs\n",
        "\n",
        "This takes some time ⌛\n",
        "\n",
        "We want to convert the phased snps (e.g 0|0, 0|1, 1|1 etc) into unphased, numeric features.\n"
      ]
    },
    {
      "cell_type": "markdown",
      "metadata": {
        "id": "iNRzNDjC4vn9"
      },
      "source": [
        "This is the code I'm using to do this.  I've also written a function to do it : )"
      ]
    },
    {
      "cell_type": "code",
      "execution_count": null,
      "metadata": {
        "colab": {
          "base_uri": "https://localhost:8080/"
        },
        "id": "qWRx-et0uREu",
        "outputId": "82cc9bc0-9292-4e30-b1a5-9607afacb80e"
      },
      "outputs": [],
      "source": [
        "#🐼\n",
        "df_shape = phased_snps_biallelic2.shape\n",
        "df_nrows = df_shape[0]\n",
        "df_ncols = df_shape[1]\n",
        "df_cols= phased_snps_biallelic2.columns\n",
        "df_working = phased_snps_biallelic2\n",
        "for i in range(0,df_ncols):\n",
        "    if i == 1000:\n",
        "        print(\"1000 individuals processed, 1500 to go : )\")\n",
        "    if i == 2000:\n",
        "        print(\"1000 individuals processed, 500 to go : )\")\n",
        "    df_working[df_cols[i]][df_working[df_cols[i]] == \"0|0\"] = 0\n",
        "    df_working[df_cols[i]][df_working[df_cols[i]] == \"1|1\"] = 2\n",
        "    df_working[df_cols[i]][df_working[df_cols[i]] == \"1|0\"] = 1\n",
        "    df_working[df_cols[i]][df_working[df_cols[i]] == \"0|1\"] = 1\n",
        "my_snps012 = df_working"
      ]
    },
    {
      "cell_type": "markdown",
      "metadata": {
        "id": "17Op5mcu41EV"
      },
      "source": [
        "Use the function"
      ]
    },
    {
      "cell_type": "code",
      "execution_count": null,
      "metadata": {
        "colab": {
          "base_uri": "https://localhost:8080/"
        },
        "id": "FUNumSRK4WDS",
        "outputId": "a9a9f3e9-f80f-43bc-e586-614346bc9381"
      },
      "outputs": [],
      "source": [
        "featurized_snps = phased_to_featurized(phased_snps_biallelic2)"
      ]
    },
    {
      "cell_type": "code",
      "execution_count": null,
      "metadata": {
        "colab": {
          "base_uri": "https://localhost:8080/",
          "height": 267
        },
        "id": "p_pvSAjS4rg1",
        "outputId": "68d1bae9-a3ac-4c51-dc0d-cb9fb0e32bdd"
      },
      "outputs": [],
      "source": [
        "featurized_snps.head()"
      ]
    },
    {
      "cell_type": "code",
      "execution_count": null,
      "metadata": {
        "colab": {
          "base_uri": "https://localhost:8080/"
        },
        "id": "ZRs_y2R5ui1O",
        "outputId": "e7cd5237-69d1-4033-a4b1-c7426453306d"
      },
      "outputs": [],
      "source": [
        "featurized_snps.columns"
      ]
    },
    {
      "cell_type": "code",
      "execution_count": null,
      "metadata": {
        "colab": {
          "base_uri": "https://localhost:8080/"
        },
        "id": "N-qZpc-hufhd",
        "outputId": "91dda419-9e8a-4a0d-adb1-a5540a86b080"
      },
      "outputs": [],
      "source": [
        "featurized_snps.HG00096.value_counts()\n"
      ]
    },
    {
      "cell_type": "markdown",
      "metadata": {
        "id": "gEvNhP5muvj2"
      },
      "source": [
        "# Transpose\n",
        "\n",
        "VCF files have SNPs in rows and people in columns.\n",
        "\n",
        "For most analyes we want this flipped: people in rows and SNPs as columns (features).\n",
        "\n",
        "This flipping can be done with the pandas .tranpose() method."
      ]
    },
    {
      "cell_type": "code",
      "execution_count": null,
      "metadata": {},
      "outputs": [],
      "source": [
        "featurized_snps.head()"
      ]
    },
    {
      "cell_type": "code",
      "execution_count": null,
      "metadata": {
        "id": "NzOdmh4cutgY"
      },
      "outputs": [],
      "source": [
        "#🌈\n",
        "featurized_snps_T = featurized_snps.transpose()"
      ]
    },
    {
      "cell_type": "code",
      "execution_count": null,
      "metadata": {},
      "outputs": [],
      "source": [
        "featurized_snps_T.head()"
      ]
    },
    {
      "cell_type": "code",
      "execution_count": null,
      "metadata": {
        "colab": {
          "base_uri": "https://localhost:8080/",
          "height": 256
        },
        "id": "lQTO0wwZvF87",
        "outputId": "af37b10d-7fa6-44b2-8069-51831109c583"
      },
      "outputs": [],
      "source": [
        "featurized_snps_T.head()"
      ]
    },
    {
      "cell_type": "code",
      "execution_count": null,
      "metadata": {
        "colab": {
          "base_uri": "https://localhost:8080/"
        },
        "id": "M-Ndn-wcvux6",
        "outputId": "31e845fd-22d9-4981-e68f-4cccc846a201"
      },
      "outputs": [],
      "source": [
        "featurized_snps_T.columns"
      ]
    },
    {
      "cell_type": "code",
      "execution_count": null,
      "metadata": {
        "colab": {
          "base_uri": "https://localhost:8080/"
        },
        "id": "2_leua-86_5O",
        "outputId": "68d6966e-234c-426a-f7e4-a253316d376a"
      },
      "outputs": [],
      "source": [
        "featurized_snps.shape"
      ]
    },
    {
      "cell_type": "code",
      "execution_count": null,
      "metadata": {
        "colab": {
          "base_uri": "https://localhost:8080/"
        },
        "id": "y1QcTaqcvx9M",
        "outputId": "607ae951-f4ab-4701-ae77-bd538a739df4"
      },
      "outputs": [],
      "source": [
        "featurized_snps_T.shape"
      ]
    },
    {
      "cell_type": "markdown",
      "metadata": {
        "id": "0cqItO497Nz-"
      },
      "source": [
        "# Save the file now!!!\n",
        "\n",
        "This file is ready for analysis - SAVE IT!  THEN DOWNLOAD IT!\n",
        "\n"
      ]
    },
    {
      "cell_type": "code",
      "execution_count": null,
      "metadata": {
        "id": "fUh7ANVOc9Pv"
      },
      "outputs": [],
      "source": [
        "csv_file = \"snps_featurized.csv\"\n",
        "featurized_snps_T.to_csv(csv_file,\n",
        "               index=False)"
      ]
    },
    {
      "cell_type": "code",
      "execution_count": null,
      "metadata": {
        "colab": {
          "base_uri": "https://localhost:8080/"
        },
        "id": "lfXdAvQs7bdy",
        "outputId": "73812b4f-7527-404c-de73-a4e429a41fee"
      },
      "outputs": [],
      "source": [
        "os.listdir()"
      ]
    },
    {
      "cell_type": "markdown",
      "metadata": {
        "id": "bl35LzUXdWQt"
      },
      "source": [
        "# Drop NAs\n",
        "\n",
        "NA stands or \"Not available\".  These are values that are missing, weren't entered, etc.  \n",
        "\n",
        "Sometimes you see \"NaN\", which means \"Not a number.\"\n",
        "\n",
        "NAs can be dropped \"row wise\" - which removes a row if ANY value in the row is NA.  NAs can be dropped \"column wise\", which drops an entire column if there is even 1 NA in it.\n",
        "\n",
        "NAs are rare in 1000 genomes data, but common elsewhere.\n"
      ]
    },
    {
      "cell_type": "code",
      "execution_count": null,
      "metadata": {
        "id": "iBd7_8URdeVA"
      },
      "outputs": [],
      "source": [
        "#row-wise deletion -\n",
        "featurized_snps_noNA1 = featurized_snps_T.dropna()\n",
        "\n",
        "# column-wise deletion\n",
        "featurized_snps_noNA2 = featurized_snps_T.dropna(axis = 1)"
      ]
    },
    {
      "cell_type": "markdown",
      "metadata": {
        "id": "I2y8OUtA8Jac"
      },
      "source": [
        "In this case, no NAs were dropped."
      ]
    },
    {
      "cell_type": "code",
      "execution_count": null,
      "metadata": {
        "colab": {
          "base_uri": "https://localhost:8080/"
        },
        "id": "7FetAGdd8HIE",
        "outputId": "88156f93-de50-4d90-dee7-3fb9787a1a94"
      },
      "outputs": [],
      "source": [
        "featurized_snps_T.shape"
      ]
    },
    {
      "cell_type": "code",
      "execution_count": null,
      "metadata": {
        "colab": {
          "base_uri": "https://localhost:8080/"
        },
        "id": "N51TRyzi7rH8",
        "outputId": "079d8fab-77eb-4814-f158-ed4fb78a9e2c"
      },
      "outputs": [],
      "source": [
        "featurized_snps_noNA1.shape"
      ]
    },
    {
      "cell_type": "code",
      "execution_count": null,
      "metadata": {
        "colab": {
          "base_uri": "https://localhost:8080/"
        },
        "id": "at4W1KJ97zuJ",
        "outputId": "2e4cb142-4078-4927-cdec-96bf098d9c0f"
      },
      "outputs": [],
      "source": [
        "featurized_snps_noNA2.shape"
      ]
    },
    {
      "cell_type": "code",
      "execution_count": null,
      "metadata": {},
      "outputs": [],
      "source": []
    },
    {
      "cell_type": "markdown",
      "metadata": {
        "id": "MMqJ2awx-o5I"
      },
      "source": [
        "# Drop invariant loci\n",
        "\n",
        "Its possible that in the raw data of or through our processing its ended up that all peole have the exact same value for a SNPs.  This will cause problems for various reasons, so we want to drop these invariant loci."
      ]
    },
    {
      "cell_type": "markdown",
      "metadata": {},
      "source": []
    },
    {
      "cell_type": "code",
      "execution_count": null,
      "metadata": {},
      "outputs": [],
      "source": [
        "featurized_snps_noNA1.tail()"
      ]
    },
    {
      "cell_type": "markdown",
      "metadata": {},
      "source": [
        "## AD HOC SOLUTION - last column has issues\n",
        "just dropping to keep my life simple for now"
      ]
    },
    {
      "cell_type": "code",
      "execution_count": null,
      "metadata": {},
      "outputs": [],
      "source": [
        "featurized_snps_noNA1.drop(featurized_snps_noNA1.tail(1).index,inplace=True)"
      ]
    },
    {
      "cell_type": "code",
      "execution_count": null,
      "metadata": {},
      "outputs": [],
      "source": [
        "featurized_snps_noNA1.tail()"
      ]
    },
    {
      "cell_type": "code",
      "execution_count": null,
      "metadata": {
        "id": "Qt2LwnEm-lYd"
      },
      "outputs": [],
      "source": [
        "stds = featurized_snps_noNA1.std()\n"
      ]
    },
    {
      "cell_type": "code",
      "execution_count": null,
      "metadata": {
        "id": "adYDDJzI-v1R"
      },
      "outputs": [],
      "source": [
        "stds_0 = stds == 0"
      ]
    },
    {
      "cell_type": "code",
      "execution_count": null,
      "metadata": {
        "colab": {
          "base_uri": "https://localhost:8080/"
        },
        "id": "g2OeSZ9p_G9f",
        "outputId": "6571ef25-dd92-490f-8249-5d0640e14604"
      },
      "outputs": [],
      "source": [
        "stds_0"
      ]
    },
    {
      "cell_type": "code",
      "execution_count": null,
      "metadata": {},
      "outputs": [],
      "source": [
        "sum(stds_0)"
      ]
    },
    {
      "cell_type": "code",
      "execution_count": null,
      "metadata": {},
      "outputs": [],
      "source": [
        "featurized_snps_noNA1.columns[stds_0]"
      ]
    },
    {
      "cell_type": "code",
      "execution_count": null,
      "metadata": {},
      "outputs": [],
      "source": [
        "featurized_snps_noNA1.columns[-stds_0]"
      ]
    },
    {
      "cell_type": "code",
      "execution_count": null,
      "metadata": {
        "colab": {
          "base_uri": "https://localhost:8080/"
        },
        "id": "4FTDlb_sAPmB",
        "outputId": "51c5f7a9-5eaa-4ffe-bf05-85b639621acc"
      },
      "outputs": [],
      "source": [
        "len(featurized_snps_noNA1.columns)"
      ]
    },
    {
      "cell_type": "code",
      "execution_count": null,
      "metadata": {},
      "outputs": [],
      "source": [
        "featurized_snps_noNA1.columns"
      ]
    },
    {
      "cell_type": "code",
      "execution_count": null,
      "metadata": {},
      "outputs": [],
      "source": [
        "featurized_snps_no_invar = featurized_snps_noNA1[featurized_snps_noNA1.columns[-stds_0]]"
      ]
    },
    {
      "cell_type": "markdown",
      "metadata": {
        "id": "S-zdNRUh8Nm2"
      },
      "source": [
        "# Center data\n",
        "\n",
        "The middle of a dataset is defined by the mean (or the median, but that won't work for us for various reasons).\n",
        "\n",
        "For more various reasons, most machine learning algorithms and many advanced stats methods like to have their data centered around zero.\n",
        "\n",
        "This means that the data are moved by subtracting the mean from each value.\n",
        "\n",
        "I can get the mean of each column (SNP) using the .mean() method"
      ]
    },
    {
      "cell_type": "code",
      "execution_count": null,
      "metadata": {
        "colab": {
          "base_uri": "https://localhost:8080/"
        },
        "id": "s7ueVZBy84z-",
        "outputId": "c7328d9b-62e4-49bc-b43f-d7d4f4bf7bf3"
      },
      "outputs": [],
      "source": [
        "featurized_snps_no_invar.mean()"
      ]
    },
    {
      "cell_type": "code",
      "execution_count": null,
      "metadata": {
        "id": "NWFYdT-J9HTP"
      },
      "outputs": [],
      "source": [
        "snp_means = featurized_snps_no_invar.mean()\n",
        "featurized_snps_center = featurized_snps_no_invar - snp_means"
      ]
    },
    {
      "cell_type": "code",
      "execution_count": null,
      "metadata": {
        "colab": {
          "base_uri": "https://localhost:8080/"
        },
        "id": "Kd31wJ8Q9Uc6",
        "outputId": "f4bb3d38-89e0-473c-ae80-5616cd70f244"
      },
      "outputs": [],
      "source": [
        "featurized_snps_center.mean()"
      ]
    },
    {
      "cell_type": "code",
      "execution_count": null,
      "metadata": {},
      "outputs": [],
      "source": [
        "featurized_snps_center.tail()"
      ]
    },
    {
      "cell_type": "markdown",
      "metadata": {
        "id": "D0C9YkMj9roh"
      },
      "source": [
        "# Scale data by SD\n",
        "\n",
        "For more various reasons, we often \"scale\" our data by the standard deviation or some other function.\n",
        "\n",
        "This means we take the data and divide by the standard deviation\n"
      ]
    },
    {
      "cell_type": "code",
      "execution_count": null,
      "metadata": {
        "id": "prOLoNBp-EtD"
      },
      "outputs": [],
      "source": [
        "snp_std = featurized_snps_center.std()"
      ]
    },
    {
      "cell_type": "code",
      "execution_count": null,
      "metadata": {
        "colab": {
          "base_uri": "https://localhost:8080/"
        },
        "id": "ei_JipS1-Fyo",
        "outputId": "cce2b786-da21-4239-afe1-fc3cd0adcb1c"
      },
      "outputs": [],
      "source": [
        "snp_std"
      ]
    },
    {
      "cell_type": "code",
      "execution_count": null,
      "metadata": {},
      "outputs": [],
      "source": [
        "snp_std.min()"
      ]
    },
    {
      "cell_type": "code",
      "execution_count": null,
      "metadata": {
        "id": "vTVF4yZC96J0"
      },
      "outputs": [],
      "source": [
        "featurized_snps_center_scale = featurized_snps_center/snp_std"
      ]
    },
    {
      "cell_type": "code",
      "execution_count": null,
      "metadata": {},
      "outputs": [],
      "source": [
        "featurized_snps_center_scale.mean()"
      ]
    },
    {
      "cell_type": "code",
      "execution_count": null,
      "metadata": {},
      "outputs": [],
      "source": [
        "featurized_snps_center_scale.std()"
      ]
    },
    {
      "cell_type": "code",
      "execution_count": null,
      "metadata": {
        "id": "7Hkz3UGaBA6Q"
      },
      "outputs": [],
      "source": [
        "featurized_snps_center_scale.to_csv(\"snps_for_analysis.csv\")"
      ]
    },
    {
      "cell_type": "markdown",
      "metadata": {
        "id": "De4QBz8_Ag__"
      },
      "source": [
        "# The data\n",
        "\n"
      ]
    },
    {
      "cell_type": "code",
      "execution_count": null,
      "metadata": {
        "colab": {
          "base_uri": "https://localhost:8080/",
          "height": 256
        },
        "id": "mVTMHn4XA_NM",
        "outputId": "589d3ca9-1613-4fb6-b9a2-94dab1183b57"
      },
      "outputs": [],
      "source": [
        "featurized_snps_center_scale.head()"
      ]
    },
    {
      "cell_type": "code",
      "execution_count": null,
      "metadata": {
        "colab": {
          "base_uri": "https://localhost:8080/"
        },
        "id": "ELIefyaRCFom",
        "outputId": "575b72c2-c0e0-4273-f31b-b6d44b3cbfbf"
      },
      "outputs": [],
      "source": [
        "!wget https://raw.githubusercontent.com/brouwern/compbio2023/main/1000genomes_people_info.csv"
      ]
    },
    {
      "cell_type": "code",
      "execution_count": null,
      "metadata": {
        "colab": {
          "base_uri": "https://localhost:8080/"
        },
        "id": "44YM3JZiCKar",
        "outputId": "8a41b514-cf34-4971-fb0d-491143ff94e0"
      },
      "outputs": [],
      "source": [
        "!ls"
      ]
    },
    {
      "cell_type": "code",
      "execution_count": null,
      "metadata": {
        "id": "e9b3LOGHCPXT"
      },
      "outputs": [],
      "source": [
        "import pandas as pd\n",
        "\n",
        "people_file = \"1000genomes_people_info.csv\"\n",
        "people = pd.read_csv(people_file)"
      ]
    },
    {
      "cell_type": "code",
      "execution_count": null,
      "metadata": {
        "colab": {
          "base_uri": "https://localhost:8080/",
          "height": 206
        },
        "id": "2G03NNsDCsN3",
        "outputId": "e8a409cd-e5a0-4881-ea01-da0b3ffd9143"
      },
      "outputs": [],
      "source": [
        "people.head()"
      ]
    },
    {
      "cell_type": "code",
      "execution_count": null,
      "metadata": {
        "id": "wFEj85bcCuO5"
      },
      "outputs": [],
      "source": [
        "people = people.set_index(\"sample\")"
      ]
    },
    {
      "cell_type": "code",
      "execution_count": null,
      "metadata": {
        "colab": {
          "base_uri": "https://localhost:8080/",
          "height": 238
        },
        "id": "WuaVCG3cC87A",
        "outputId": "ab6ac581-982e-481b-eb17-55804f8e53e8"
      },
      "outputs": [],
      "source": [
        "people.head()"
      ]
    },
    {
      "cell_type": "code",
      "execution_count": null,
      "metadata": {},
      "outputs": [],
      "source": [
        "people.super_pop.value_counts()"
      ]
    },
    {
      "cell_type": "code",
      "execution_count": null,
      "metadata": {
        "colab": {
          "base_uri": "https://localhost:8080/",
          "height": 256
        },
        "id": "XClrqczsDJYR",
        "outputId": "146bc856-83f1-40d2-a742-afe4086093be"
      },
      "outputs": [],
      "source": [
        "featurized_snps_center_scale.head()"
      ]
    },
    {
      "cell_type": "code",
      "execution_count": null,
      "metadata": {},
      "outputs": [],
      "source": [
        "featurized_snps_center_scale.index.names = [\"sample\"]"
      ]
    },
    {
      "cell_type": "code",
      "execution_count": null,
      "metadata": {
        "colab": {
          "base_uri": "https://localhost:8080/"
        },
        "id": "outB3WY0Dgpb",
        "outputId": "fed55582-1e8a-406e-c6f7-b2e279b6ed4d"
      },
      "outputs": [],
      "source": [
        "featurized_snps_center_scale.head()"
      ]
    },
    {
      "cell_type": "code",
      "execution_count": null,
      "metadata": {},
      "outputs": [],
      "source": [
        "featurized_snps_center_scale.head()"
      ]
    },
    {
      "cell_type": "code",
      "execution_count": null,
      "metadata": {
        "id": "Bdu9d-XACYSo"
      },
      "outputs": [],
      "source": [
        "people_columns = [\"pop\",\"super_pop\"]\n",
        "snps = pd.merge(people[people_columns],\n",
        "                featurized_snps_center_scale,\n",
        "                left_index=True, right_index=True)"
      ]
    },
    {
      "cell_type": "code",
      "execution_count": null,
      "metadata": {
        "colab": {
          "base_uri": "https://localhost:8080/"
        },
        "id": "NDocDM2VELnC",
        "outputId": "9d2d2e8a-fecf-4186-9ec5-b6333d5b5dac"
      },
      "outputs": [],
      "source": [
        "featurized_snps_center_scale.shape"
      ]
    },
    {
      "cell_type": "code",
      "execution_count": null,
      "metadata": {
        "colab": {
          "base_uri": "https://localhost:8080/"
        },
        "id": "kTpK4ACDEPgy",
        "outputId": "d3bce62f-33b9-4c9c-b560-2a5ab9c2d19d"
      },
      "outputs": [],
      "source": [
        "snps.shape"
      ]
    },
    {
      "cell_type": "code",
      "execution_count": null,
      "metadata": {
        "colab": {
          "base_uri": "https://localhost:8080/",
          "height": 256
        },
        "id": "tLfW3MnaENwV",
        "outputId": "2903ee37-e5db-47ec-911d-5d8e634c669e"
      },
      "outputs": [],
      "source": [
        "snps.head()"
      ]
    },
    {
      "cell_type": "markdown",
      "metadata": {
        "id": "l7Vea1eMIHu2"
      },
      "source": [
        "Gambian in Western Division – Mandinka [GWD]\n",
        "Japanese in Tokyo, Japan [JPT]\n",
        "Finnish in Finland [FIN]\n",
        "\n"
      ]
    },
    {
      "cell_type": "code",
      "execution_count": null,
      "metadata": {
        "colab": {
          "base_uri": "https://localhost:8080/"
        },
        "id": "WdyrAP7MIu3f",
        "outputId": "5d156df5-d6cf-408a-becc-c284ec577d10"
      },
      "outputs": [],
      "source": [
        "snps[\"pop\"]"
      ]
    },
    {
      "cell_type": "markdown",
      "metadata": {},
      "source": [
        "# Distances"
      ]
    },
    {
      "cell_type": "code",
      "execution_count": null,
      "metadata": {},
      "outputs": [],
      "source": [
        "snps.head()"
      ]
    },
    {
      "cell_type": "code",
      "execution_count": null,
      "metadata": {},
      "outputs": [],
      "source": [
        "snps = snps.set_index([\"pop\",\"super_pop\"])"
      ]
    },
    {
      "cell_type": "code",
      "execution_count": null,
      "metadata": {},
      "outputs": [],
      "source": [
        "snps.head()"
      ]
    },
    {
      "cell_type": "code",
      "execution_count": null,
      "metadata": {},
      "outputs": [],
      "source": [
        "snps_super_pop_mean = snps.groupby('super_pop').mean()"
      ]
    },
    {
      "cell_type": "code",
      "execution_count": null,
      "metadata": {},
      "outputs": [],
      "source": [
        "snps_pop_mean = snps.groupby([\"super_pop\",\"pop\"]).mean()"
      ]
    },
    {
      "cell_type": "code",
      "execution_count": null,
      "metadata": {},
      "outputs": [],
      "source": [
        "snps_pop_mean"
      ]
    },
    {
      "cell_type": "code",
      "execution_count": null,
      "metadata": {},
      "outputs": [],
      "source": [
        "import numpy as np\n",
        "from sklearn.metrics.pairwise import pairwise_distances\n",
        "\n",
        "pairwise_distr_pop = pairwise_distances(snps_pop_mean, metric='euclidean')"
      ]
    },
    {
      "cell_type": "code",
      "execution_count": null,
      "metadata": {},
      "outputs": [],
      "source": [
        "pairwise_dist_super_pop = pairwise_distances(snps_super_pop_mean, metric='euclidean')"
      ]
    },
    {
      "cell_type": "code",
      "execution_count": null,
      "metadata": {},
      "outputs": [],
      "source": [
        "pairwise_dist_super_pop"
      ]
    },
    {
      "cell_type": "code",
      "execution_count": null,
      "metadata": {},
      "outputs": [],
      "source": [
        "dist_mat_super_pop = pd.DataFrame(data=pairwise_dist_super_pop)"
      ]
    },
    {
      "cell_type": "code",
      "execution_count": null,
      "metadata": {},
      "outputs": [],
      "source": []
    },
    {
      "cell_type": "markdown",
      "metadata": {},
      "source": [
        "Africans (AFR), Admixed Americans (AMR), East Asians (EAS), Europeans (EUR) and South Asians (SAS)"
      ]
    },
    {
      "cell_type": "code",
      "execution_count": null,
      "metadata": {},
      "outputs": [],
      "source": [
        "dist_mat_super_pop.columns = [\"AFR\",\"EAS\",\"EUR\",\"SAS\",\"AMR\"]"
      ]
    },
    {
      "cell_type": "code",
      "execution_count": null,
      "metadata": {},
      "outputs": [],
      "source": [
        "dist_mat_super_pop.insert(0, \"super_pop\", [\"AFR\",\"EAS\",\"EUR\",\"SAS\",\"AMR\"], True)"
      ]
    },
    {
      "cell_type": "code",
      "execution_count": null,
      "metadata": {},
      "outputs": [],
      "source": [
        "dist_mat_super_pop"
      ]
    },
    {
      "cell_type": "code",
      "execution_count": null,
      "metadata": {},
      "outputs": [],
      "source": [
        "dist_mat_super_pop = dist_mat_super_pop.set_index(\"super_pop\")"
      ]
    },
    {
      "cell_type": "code",
      "execution_count": null,
      "metadata": {},
      "outputs": [],
      "source": [
        "dist_mat_super_pop"
      ]
    },
    {
      "cell_type": "code",
      "execution_count": null,
      "metadata": {},
      "outputs": [],
      "source": [
        "dist_mat_super_pop.to_csv(csv_file,\n",
        "               index=True)"
      ]
    },
    {
      "cell_type": "markdown",
      "metadata": {},
      "source": [
        "# Create full matrix"
      ]
    },
    {
      "cell_type": "code",
      "execution_count": null,
      "metadata": {},
      "outputs": [],
      "source": [
        "snps_no_meta = snps.drop([\"pop\",\"super_pop\"], axis = 1)"
      ]
    },
    {
      "cell_type": "code",
      "execution_count": null,
      "metadata": {},
      "outputs": [],
      "source": [
        "snps_no_meta.head()"
      ]
    },
    {
      "cell_type": "code",
      "execution_count": null,
      "metadata": {},
      "outputs": [],
      "source": []
    },
    {
      "cell_type": "code",
      "execution_count": null,
      "metadata": {},
      "outputs": [],
      "source": []
    },
    {
      "cell_type": "code",
      "execution_count": null,
      "metadata": {},
      "outputs": [],
      "source": []
    },
    {
      "cell_type": "code",
      "execution_count": null,
      "metadata": {},
      "outputs": [],
      "source": [
        "import numpy as np\n",
        "from sklearn.metrics.pairwise import pairwise_distances\n",
        "\n",
        "pairwise_dist = pairwise_distances(snps_no_meta, metric='euclidean')"
      ]
    },
    {
      "cell_type": "code",
      "execution_count": null,
      "metadata": {},
      "outputs": [],
      "source": [
        "pairwise_dist"
      ]
    },
    {
      "cell_type": "markdown",
      "metadata": {},
      "source": [
        "# Further explorations"
      ]
    },
    {
      "cell_type": "code",
      "execution_count": null,
      "metadata": {
        "id": "Zq8NHoJRH7OX"
      },
      "outputs": [],
      "source": [
        "focal_pops = snps[\"pop\"].isin(['GWD', 'JPT',\"FIN\"])"
      ]
    },
    {
      "cell_type": "code",
      "execution_count": null,
      "metadata": {
        "id": "Xt-4zZjII5Yr"
      },
      "outputs": [],
      "source": [
        "snps_focal_pops = snps[focal_pops]"
      ]
    },
    {
      "cell_type": "code",
      "execution_count": null,
      "metadata": {
        "colab": {
          "base_uri": "https://localhost:8080/"
        },
        "id": "rqWUeMSJJAGZ",
        "outputId": "c3bf6c3e-200d-4426-c3f6-faf966e0382e"
      },
      "outputs": [],
      "source": [
        "snps_focal_pops.shape"
      ]
    },
    {
      "cell_type": "code",
      "execution_count": null,
      "metadata": {
        "colab": {
          "base_uri": "https://localhost:8080/"
        },
        "id": "1MCVbf11Jzds",
        "outputId": "53d8238d-1d63-4d35-d2ea-be8a31afb1dd"
      },
      "outputs": [],
      "source": [
        "snps_focal_pops_rand = snps_focal_pops.sample(n=30, random_state=1)\n",
        "snps_focal_pops_rand[\"pop\"].value_counts()"
      ]
    },
    {
      "cell_type": "code",
      "execution_count": null,
      "metadata": {
        "colab": {
          "base_uri": "https://localhost:8080/",
          "height": 256
        },
        "id": "Jcx65-kRF2ZH",
        "outputId": "fbf109c2-ce75-4421-c2b6-cb66b075384d"
      },
      "outputs": [],
      "source": [
        "snps_focal_pops_rand2 = snps_focal_pops_rand.drop([\"pop\",\"super_pop\"], axis = 1)\n",
        "\n",
        "snps_focal_pops_rand2.head()"
      ]
    },
    {
      "cell_type": "code",
      "execution_count": null,
      "metadata": {
        "colab": {
          "base_uri": "https://localhost:8080/",
          "height": 390
        },
        "id": "08yTfOuFLbmE",
        "outputId": "9e4c50f1-1570-440a-85b0-73cc844b0a03"
      },
      "outputs": [],
      "source": [
        "import numpy as np\n",
        "from statsmodels.multivariate.pca import PCA\n",
        "pc = PCA(snps_focal_pops_rand2)"
      ]
    },
    {
      "cell_type": "code",
      "execution_count": null,
      "metadata": {
        "colab": {
          "base_uri": "https://localhost:8080/",
          "height": 262
        },
        "id": "GcDVtX1zK0br",
        "outputId": "086c9cae-ddbc-44ae-b16c-d7146bff9715"
      },
      "outputs": [],
      "source": [
        "from sklearn.cluster import KMeans\n",
        "kmeans = KMeans(n_clusters=3)\n",
        "kmeans.fit(snps_focal_pops_rand2)\n",
        "\n",
        "plt.scatter(x, y, c=kmeans.labels_)\n",
        "plt.show()"
      ]
    },
    {
      "cell_type": "code",
      "execution_count": null,
      "metadata": {
        "id": "284GQ1ypFtxv"
      },
      "outputs": [],
      "source": [
        "import numpy as np\n",
        "import matplotlib.pyplot as plt\n",
        "from scipy.cluster.hierarchy import dendrogram, linkage\n",
        "import matplotlib as mp\n",
        "\n",
        "\n",
        "linkage_data = linkage(snps_focal_pops_rand2,\n",
        "                       method='complete',\n",
        "                       metric='euclidean')\n",
        "\n",
        "\n"
      ]
    },
    {
      "cell_type": "code",
      "execution_count": null,
      "metadata": {
        "colab": {
          "base_uri": "https://localhost:8080/",
          "height": 692
        },
        "id": "T1X1gAnfGoOr",
        "outputId": "ed1c7f21-eced-49f0-fbed-b0641953a964"
      },
      "outputs": [],
      "source": [
        "dendrogram(linkage_data,labels = list(snps_focal_pops_rand.super_pop))\n",
        "\n",
        "plt.show()\n",
        "mp.rcParams['figure.figsize'] = [14, 8]\n"
      ]
    },
    {
      "cell_type": "markdown",
      "metadata": {
        "id": "oxskGXANvspe"
      },
      "source": [
        "# Allele frequencies"
      ]
    },
    {
      "cell_type": "code",
      "execution_count": null,
      "metadata": {
        "id": "9uNxrHVtyHGF"
      },
      "outputs": [],
      "source": [
        "#🌋\n",
        "import numpy as np\n",
        "n_cols = my_snps012_T.shape[1]\n",
        "Af_vect = list(np.full(shape=n_cols, fill_value=0))\n",
        "af_vect = list(np.full(shape=n_cols, fill_value=0))\n",
        "columns = my_snps012_T.columns\n",
        "for i in range(0, n_cols):\n",
        "    col_i = columns[i]\n",
        "\n",
        "    col_working = my_snps012_T[col_i]\n",
        "\n",
        "    geno_freq_i = col_working.value_counts()\n",
        "\n",
        "    AA = 0\n",
        "    Aa = 0\n",
        "    aa = 0\n",
        "\n",
        "    AA = list(geno_freq_i[geno_freq_i.index == 0])\n",
        "    Aa = list(geno_freq_i[geno_freq_i.index == 1])\n",
        "    aa = list(geno_freq_i[geno_freq_i.index == 2])\n",
        "\n",
        "    if len(AA) == 0:\n",
        "        AA = [0]\n",
        "    if len(Aa) == 0:\n",
        "        Aa = [0]\n",
        "    if len(aa) == 0:\n",
        "        aa = [0]\n",
        "\n",
        "    A = 2*AA[0] + 1*Aa[0]\n",
        "    a = 1*Aa[0] + 2*aa[0]\n",
        "    N = A+a\n",
        "    Af = A/N\n",
        "    Af_vect[i] = Af"
      ]
    },
    {
      "cell_type": "code",
      "execution_count": null,
      "metadata": {
        "id": "_Qh_Y5cxT8he"
      },
      "outputs": [],
      "source": [
        "for i in range(0,len(Af_vect)):\n",
        "    af_vect[i] = 1 - Af_vect[i]"
      ]
    },
    {
      "cell_type": "code",
      "execution_count": null,
      "metadata": {
        "id": "s97c1BVy4fok"
      },
      "outputs": [],
      "source": [
        "import seaborn as sns\n",
        "Af_ser = pd.Series(Af_vect)\n",
        "af_ser = pd.Series(af_vect)\n",
        "rs = my_snps012_T.columns\n",
        "\n",
        "df = pd.DataFrame({\"rs\": rs,\n",
        "                   \"Af\": Af_ser,\n",
        "                   \"af\": af_ser})"
      ]
    },
    {
      "cell_type": "code",
      "execution_count": null,
      "metadata": {
        "id": "yKk-MFcMVi2W"
      },
      "outputs": [],
      "source": [
        "df[df.af.between(0.25, 0.35, inclusive=False)]"
      ]
    },
    {
      "cell_type": "code",
      "execution_count": null,
      "metadata": {
        "id": "orAxU9d_UR_9"
      },
      "outputs": [],
      "source": [
        "df_rank = df.Af.rank()"
      ]
    },
    {
      "cell_type": "code",
      "execution_count": null,
      "metadata": {
        "id": "BDEoBQ9aTaTe"
      },
      "outputs": [],
      "source": [
        "df = df.set_index(df_rank)"
      ]
    },
    {
      "cell_type": "code",
      "execution_count": null,
      "metadata": {
        "id": "Y4OnRHzGUip0"
      },
      "outputs": [],
      "source": [
        "df = df.sort_index()"
      ]
    },
    {
      "cell_type": "code",
      "execution_count": null,
      "metadata": {
        "id": "tndzhDgeTr2v"
      },
      "outputs": [],
      "source": [
        "df[[\"rs\",\"af\"]].iloc[1:20]"
      ]
    },
    {
      "cell_type": "code",
      "execution_count": null,
      "metadata": {
        "id": "Qi7ttZdqS8_y"
      },
      "outputs": [],
      "source": [
        "Af_ser_rank.max()\n",
        "Af_ser_rank.min()"
      ]
    },
    {
      "cell_type": "code",
      "execution_count": null,
      "metadata": {
        "id": "ocbczlyrSk5a"
      },
      "outputs": [],
      "source": [
        "Af_ser.iloc[Af_ser_rank]"
      ]
    },
    {
      "cell_type": "code",
      "execution_count": null,
      "metadata": {
        "id": "-JhGrTb12-XO"
      },
      "outputs": [],
      "source": [
        "Af_vect[0:10]"
      ]
    },
    {
      "cell_type": "code",
      "execution_count": null,
      "metadata": {
        "id": "c12Vh1KCwgta"
      },
      "outputs": [],
      "source": [
        "my_snps012_T[\"rs77368867\"].value_counts()"
      ]
    },
    {
      "cell_type": "code",
      "execution_count": null,
      "metadata": {
        "id": "gGpjgb1mwlhN"
      },
      "outputs": [],
      "source": [
        "33*1 + 1*2"
      ]
    },
    {
      "cell_type": "code",
      "execution_count": null,
      "metadata": {
        "id": "3mEZzejXwrCa"
      },
      "outputs": [],
      "source": [
        "(33*1 + 1*2)/(2470*2 + 33*2 + 1*2)"
      ]
    },
    {
      "cell_type": "code",
      "execution_count": null,
      "metadata": {
        "id": "46nnCt3fvTu9"
      },
      "outputs": [],
      "source": [
        "n_ind = my_snps012_T.shape[0]\n",
        "n_chrom = n_ind*2\n",
        "n_chrom\n"
      ]
    },
    {
      "cell_type": "code",
      "execution_count": null,
      "metadata": {
        "id": "AguqEq8dvVUS"
      },
      "outputs": [],
      "source": [
        "q = my_snps012_T[\"rs77368867\"].sum()/n_chrom\n",
        "q"
      ]
    },
    {
      "cell_type": "code",
      "execution_count": null,
      "metadata": {
        "id": "k4EuhSqOvW2J"
      },
      "outputs": [],
      "source": [
        "n_ind = len(my_snps012_T[\"rs56055582\"])\n",
        "n_chrom = n_ind*2\n",
        "p = 1- my_snps012_T[\"rs56055582\"].sum()/n_chrom\n",
        "q = my_snps012_T[\"rs56055582\"].sum()/n_chrom"
      ]
    },
    {
      "cell_type": "code",
      "execution_count": null,
      "metadata": {
        "id": "yrVy54GIvYjL"
      },
      "outputs": [],
      "source": [
        "print(p)\n",
        "print(q)"
      ]
    },
    {
      "cell_type": "code",
      "execution_count": null,
      "metadata": {
        "id": "1wS1Ed-4vaEZ"
      },
      "outputs": [],
      "source": [
        "AA = (p**2)*n_ind\n",
        "Aa = 2*p*q*n_ind\n",
        "aa = (q**2)*n_ind\n",
        "\n",
        "AA + Aa + aa"
      ]
    },
    {
      "cell_type": "code",
      "execution_count": null,
      "metadata": {
        "id": "8ezFYP7aBtSd"
      },
      "outputs": [],
      "source": []
    }
  ],
  "metadata": {
    "colab": {
      "provenance": []
    },
    "kernelspec": {
      "display_name": "Python 3",
      "name": "python3"
    },
    "language_info": {
      "codemirror_mode": {
        "name": "ipython",
        "version": 3
      },
      "file_extension": ".py",
      "mimetype": "text/x-python",
      "name": "python",
      "nbconvert_exporter": "python",
      "pygments_lexer": "ipython3",
      "version": "3.11.4"
    }
  },
  "nbformat": 4,
  "nbformat_minor": 0
}
